{
 "cells": [
  {
   "cell_type": "raw",
   "id": "e3c81a61",
   "metadata": {},
   "source": [
    "筆記位置: \n",
    "\n",
    "環境要求:\n",
    "Python 3.9以上\n",
    "\n",
    "後續code改進方向:\n",
    "❄ 用import graphene，跳過已經呼叫過拿完的資料\n",
    "❄ 考慮之後使用allQuestionsRaw 來抓取題目列表基準\n",
    "\n",
    "目前已使用的operationName:\n",
    "❄ problemsetQuestionList 題目列表\n",
    "❄ questionData 題目基本資訊\n",
    "\n",
    "發現可能有用但尚未使用:\n",
    "❄ interviewOptions 題目列表\n",
    "\n",
    "\n",
    "Leetcode網頁邏輯:\n",
    "首頁:\n",
    "❄ globalData\n",
    "❄ questionCompanyTags\n",
    "❄ questionOfToday\n",
    "❄ problemsetQuestionList\n",
    "❄ dailyCodingQuestionRecords\n",
    "❄ timeTravelTicketInfo \n",
    "❄ userSessionProgress\n",
    "單題目頁面(Description):\n",
    "❄ globalData\n",
    "❄ questionData\n",
    "❄ Submissions\n",
    "❄ allQuestionsStatusesRaw\n",
    "❄ filterableCategories\n",
    "❄ questionTags\n",
    "❄ achievement\n",
    "❄ debuggerLanguageFeatures\n",
    "❄ questionTopicCount\n",
    "❄ interviewOptions\n",
    "解答頁面(如果有Solution，不是每題都有):\n",
    "❄ QuestionNote\n",
    "❄ DiscussTopic\n",
    "❄ discussComments\n",
    "❄ fetchPlayground * N\n",
    "❄ fetchCommentReplies(點開回復)\n",
    "討論區頁面:\n",
    "❄ discussQuestionTopicTags\n",
    "❄ questionTopicsList\n",
    "❄ DiscussTopic(點開某一串)\n",
    "❄ discussComments(點開某一串)\n",
    "❄ fetchCommentReplies(某一串下，再點開某條回復)"
   ]
  },
  {
   "cell_type": "markdown",
   "id": "2c88fdb9",
   "metadata": {},
   "source": [
    "# 前置作業"
   ]
  },
  {
   "cell_type": "markdown",
   "id": "5eb5aff3",
   "metadata": {},
   "source": [
    "## 安裝套件"
   ]
  },
  {
   "cell_type": "code",
   "execution_count": null,
   "id": "0c2de776",
   "metadata": {},
   "outputs": [],
   "source": [
    "!pip install requests"
   ]
  },
  {
   "cell_type": "code",
   "execution_count": null,
   "id": "28cd45d6",
   "metadata": {},
   "outputs": [],
   "source": [
    "!pip install selenium"
   ]
  },
  {
   "cell_type": "markdown",
   "id": "553ea4fa",
   "metadata": {},
   "source": [
    "## import 套件"
   ]
  },
  {
   "cell_type": "code",
   "execution_count": 1,
   "id": "f0e582dc",
   "metadata": {},
   "outputs": [],
   "source": [
    "# coding=utf-8\n",
    "import requests\n",
    "import json\n",
    "\n",
    "from requests import exceptions\n",
    "import time\n",
    "import os\n",
    "import re\n",
    "import math\n",
    "import logging\n",
    "import ast\n",
    "from pathlib import Path\n",
    "from IPython.display import clear_output\n",
    "\n",
    "import sys\n",
    "\n",
    "from selenium import webdriver\n",
    "from selenium.webdriver.chrome.options import Options"
   ]
  },
  {
   "cell_type": "markdown",
   "id": "112a9c8f",
   "metadata": {},
   "source": [
    "## 帳號密碼宣告"
   ]
  },
  {
   "cell_type": "code",
   "execution_count": 2,
   "id": "162833fc",
   "metadata": {},
   "outputs": [],
   "source": [
    "account = \"chickenrun4@yahoo.com.tw\"\n",
    "password = \"fcuiecs123\""
   ]
  },
  {
   "cell_type": "markdown",
   "id": "8280f2ac",
   "metadata": {},
   "source": [
    "## 資料夾名稱、Logging紀錄"
   ]
  },
  {
   "cell_type": "code",
   "execution_count": 3,
   "id": "7fee65d2",
   "metadata": {},
   "outputs": [],
   "source": [
    "import logging\n",
    "import datetime\n",
    "import pickle\n",
    "\n",
    "save_file = \"20210712\"\n",
    "# 開路徑\n",
    "Path(f\"./{save_file}\").mkdir(parents=True, exist_ok=True)\n",
    "\n",
    "# logging文件設定\n",
    "str_time = datetime.datetime.now().strftime(\"%Y-%m-%d_%H_%M_%S.log\")\n",
    "\n",
    "logging.basicConfig(\n",
    "    filename=f\"./{save_file}/LOG {str_time}\",\n",
    "    encoding=\"utf-8\",\n",
    "    level=logging.INFO,\n",
    "    # 其中%(levelname)-5s這部分。-5s的意思是向左對齊，總長度為5的字串。\n",
    "    format= \"[%(levelname)-5s %(asctime)s LINE:%(lineno)d] %(message)s\",\n",
    "    datefmt=\"%Y%m%d_%H:%M:%S\",\n",
    ")\n",
    "\n",
    "# logging.info('一些資訊')\n",
    "# logging.error(\"出了一些BUG\")\n",
    "# try:\n",
    "#     1/0\n",
    "# except ZeroDivisionError:\n",
    "#     logging.exception(\"發生BUG啦\")"
   ]
  },
  {
   "cell_type": "markdown",
   "id": "235687c2",
   "metadata": {},
   "source": [
    "## 一題目基本屬性class宣告"
   ]
  },
  {
   "cell_type": "code",
   "execution_count": 4,
   "id": "62b5fcf6",
   "metadata": {},
   "outputs": [],
   "source": [
    "class question_info:\n",
    "    def __init__(self, ID, slug, front_id, has_solution):\n",
    "        self.ID = ID\n",
    "        self.slug = slug\n",
    "        self.front_id = front_id\n",
    "        \n",
    "        self.has_solution = has_solution\n",
    "        self.solution_id = None\n",
    "#         self.discuss_comment_count = None\n",
    "\n",
    "    def get_questionData(self):\n",
    "        json_file = questionData(self.slug)\n",
    "        with open(f\"./{save_file}/{self.ID} {self.slug}/questionData.json\", 'w', encoding='utf-8') as f:\n",
    "            json.dump(json_file, f, ensure_ascii=False, indent=4)\n",
    "            \n",
    "    def get_questionTags(self):\n",
    "        json_file = questionTags(self.slug)\n",
    "        with open(f\"./{save_file}/{self.ID} {self.slug}/questionTags.json\", 'w', encoding='utf-8') as f:\n",
    "            json.dump(json_file, f, ensure_ascii=False, indent=4)\n",
    "                \n",
    "    def get_questionTopicCount(self):\n",
    "        json_file = questionTopicCount(self.ID, self.slug)\n",
    "        with open(f\"./{save_file}/{self.ID} {self.slug}/questionTopicCount.json\", 'w', encoding='utf-8') as f:\n",
    "            json.dump(json_file, f, ensure_ascii=False, indent=4)\n",
    "                \n",
    "    def get_discussQuestionTopicTags(self):\n",
    "        json_file = discussQuestionTopicTags(self.ID, self.slug)\n",
    "        with open(f\"./{save_file}/{self.ID} {self.slug}/discussQuestionTopicTags.json\", 'w', encoding='utf-8') as f:\n",
    "            json.dump(json_file, f, ensure_ascii=False, indent=4)\n",
    "    \n",
    "    \n",
    "    # 以下皆需要有solution才會提供    \n",
    "    def get_QuestionNote(self):\n",
    "        if not self.has_solution:\n",
    "            logging.warning(f\"題目: {self.slug}沒有提供solution，請物呼叫抓取solution相關的涵式。\")\n",
    "            return\n",
    "        json_file = QuestionNote(self.slug)\n",
    "        with open(f\"./{save_file}/{self.ID} {self.slug}/QuestionNote.json\", 'w', encoding='utf-8') as f:\n",
    "            json.dump(json_file, f, ensure_ascii=False, indent=4)\n",
    "        \"\"\"❄❄❄❄❄❄❄❄❄❄❄❄❄❄❄❄❄❄❄❄ Fetching Topic ID ❄❄❄❄❄❄❄❄❄❄❄❄❄❄❄❄❄❄❄❄\"\"\"\n",
    "        try:\n",
    "            string = json_file['data']['question']['article']\n",
    "            regex = re.compile(r'\"topicId\": (\\d+)')\n",
    "            match = regex.search(string)\n",
    "            self.solution_id = match.group(1)\n",
    "        except AttributeError as e:\n",
    "            logging.exception(f\"在獲取topicId時，其QuestionNote_OP值為空\")\n",
    "            print(\"發生錯誤!請查閱LOG檔\")\n",
    "        except exceptions as e:\n",
    "            logging.exception(f\"在獲取topicId時發生未知錯誤\\n\")\n",
    "            print(\"發生錯誤!請查閱LOG檔\")\n",
    "        \"\"\"❄❄❄❄❄❄❄❄❄❄❄❄❄❄❄❄❄❄❄❄ Fetching Topic ID ❄❄❄❄❄❄❄❄❄❄❄❄❄❄❄❄❄❄❄❄\"\"\"\n",
    "        \n",
    "    def get_DiscussTopic(self):\n",
    "        if not self.has_solution:\n",
    "            logging.warning(f\"題目: {self.slug}沒有提供solution，請物呼叫抓取solution相關的涵式。\")\n",
    "            return\n",
    "        elif self.solution_id == None:\n",
    "            logging.warning(f\"題目: {self.slug}還沒有抓到topic id，請先使用get_QuestionNote抓到solution的資料。\")\n",
    "            return\n",
    "        json_file = DiscussTopic(self.slug, self.solution_id)\n",
    "        with open(f\"./{save_file}/{self.ID} {self.slug}/DiscussTopic.json\", 'w', encoding='utf-8') as f:\n",
    "            json.dump(json_file, f, ensure_ascii=False, indent=4)"
   ]
  },
  {
   "cell_type": "markdown",
   "id": "3b5f6166",
   "metadata": {},
   "source": [
    "# 開啟瀏覽器cookie。需要手動通過recaptch!!! 會員登入cookie轉移。"
   ]
  },
  {
   "cell_type": "code",
   "execution_count": 5,
   "id": "667b0807",
   "metadata": {},
   "outputs": [],
   "source": [
    "session = requests.Session()\n",
    "# 網頁cookie之類的\n",
    "user_agent = r'Mozilla/5.0 (Windows NT 10.0; Win64; x64) AppleWebKit/537.36 (KHTML, like Gecko) Chrome/91.0.4472.124 Safari/537.36'\n",
    "\n",
    "\n",
    "CHROMEDRIVER_PATH = \"./chromedriver.exe\"\n",
    "url = \"https://leetcode.com/accounts/login/\"\n",
    "\n",
    "options = Options()\n",
    "# options.headless = True\n",
    "driver = webdriver.Chrome(CHROMEDRIVER_PATH, options=options)\n",
    "driver.implicitly_wait(10) # seconds\n",
    "driver.get(url)\n",
    "\n",
    "xpath = '//*[@id=\"id_login\"]'\n",
    "account_blank = driver.find_element_by_xpath(xpath)\n",
    "xpath = '//*[@id=\"id_password\"]'\n",
    "password_blank = driver.find_element_by_xpath(xpath)\n",
    "xpath = '//*[@id=\"recaptcha-anchor\"]'\n",
    "\n",
    "account_blank.send_keys(account)\n",
    "password_blank.send_keys(password)"
   ]
  },
  {
   "cell_type": "code",
   "execution_count": 6,
   "id": "874b3343",
   "metadata": {
    "collapsed": true,
    "jupyter": {
     "outputs_hidden": true
    },
    "tags": []
   },
   "outputs": [
    {
     "data": {
      "text/plain": [
       "[{'domain': '.leetcode.com',\n",
       "  'expiry': 1941532422,\n",
       "  'httpOnly': False,\n",
       "  'name': '87b5a3c3f1a55520_gr_cs1',\n",
       "  'path': '/',\n",
       "  'secure': False,\n",
       "  'value': 'gogochicken'},\n",
       " {'domain': '.leetcode.com',\n",
       "  'expiry': 1626174222,\n",
       "  'httpOnly': False,\n",
       "  'name': '87b5a3c3f1a55520_gr_last_sent_sid_with_cs1',\n",
       "  'path': '/',\n",
       "  'secure': False,\n",
       "  'value': 'bd0cf39e-c50c-42f9-9001-f9c8ac019772'},\n",
       " {'domain': '.leetcode.com',\n",
       "  'httpOnly': True,\n",
       "  'name': 'messages',\n",
       "  'path': '/',\n",
       "  'sameSite': 'Lax',\n",
       "  'secure': True,\n",
       "  'value': '\"8b92ab4a51023ad07481830e3ccdc38c90f52fb3$[[\\\\\"__json_message\\\\\"\\\\0540\\\\05425\\\\054\\\\\"Successfully signed in as gogochicken.\\\\\"]]\"'},\n",
       " {'domain': '.leetcode.com',\n",
       "  'expiry': 1941532422,\n",
       "  'httpOnly': False,\n",
       "  'name': 'gr_user_id',\n",
       "  'path': '/',\n",
       "  'secure': False,\n",
       "  'value': '5cd68081-80d3-475a-bf23-fb0122d4c1a5'},\n",
       " {'domain': 'leetcode.com',\n",
       "  'expiry': 1657622022,\n",
       "  'httpOnly': False,\n",
       "  'name': 'csrftoken',\n",
       "  'path': '/',\n",
       "  'sameSite': 'Lax',\n",
       "  'secure': True,\n",
       "  'value': 'p6MNDZ2Snwl5XcPaWPKma9fAqWlWNiNd7rCzCXPUN7kqPVC7kdo4LXWC6633pR31'},\n",
       " {'domain': '.leetcode.com',\n",
       "  'expiry': 1626174222,\n",
       "  'httpOnly': False,\n",
       "  'name': '87b5a3c3f1a55520_gr_session_id_bd0cf39e-c50c-42f9-9001-f9c8ac019772',\n",
       "  'path': '/',\n",
       "  'secure': False,\n",
       "  'value': 'true'},\n",
       " {'domain': '.leetcode.com',\n",
       "  'expiry': 1941532422,\n",
       "  'httpOnly': False,\n",
       "  'name': '87b5a3c3f1a55520_gr_last_sent_cs1',\n",
       "  'path': '/',\n",
       "  'secure': False,\n",
       "  'value': 'gogochicken'},\n",
       " {'domain': '.leetcode.com',\n",
       "  'expiry': 1626174222,\n",
       "  'httpOnly': False,\n",
       "  'name': '87b5a3c3f1a55520_gr_session_id',\n",
       "  'path': '/',\n",
       "  'secure': False,\n",
       "  'value': 'bd0cf39e-c50c-42f9-9001-f9c8ac019772'},\n",
       " {'domain': '.leetcode.com',\n",
       "  'expiry': 1626258821,\n",
       "  'httpOnly': False,\n",
       "  'name': '_gid',\n",
       "  'path': '/',\n",
       "  'secure': False,\n",
       "  'value': 'GA1.2.1214788165.1626172406'},\n",
       " {'domain': '.leetcode.com',\n",
       "  'expiry': 1627382021,\n",
       "  'httpOnly': True,\n",
       "  'name': 'LEETCODE_SESSION',\n",
       "  'path': '/',\n",
       "  'sameSite': 'Lax',\n",
       "  'secure': True,\n",
       "  'value': 'eyJ0eXAiOiJKV1QiLCJhbGciOiJIUzI1NiJ9.eyJfYXV0aF91c2VyX2lkIjoiNzA3MTcyIiwiX2F1dGhfdXNlcl9iYWNrZW5kIjoiYWxsYXV0aC5hY2NvdW50LmF1dGhfYmFja2VuZHMuQXV0aGVudGljYXRpb25CYWNrZW5kIiwiX2F1dGhfdXNlcl9oYXNoIjoiYjBhNDEyYWMyODk1NDIzYTc5OGVjNDY1NzJkZGU2YjJiNjI5Y2UzZiIsImlkIjo3MDcxNzIsImVtYWlsIjoiY2hpY2tlbnJ1bjRAeWFob28uY29tLnR3IiwidXNlcm5hbWUiOiJnb2dvY2hpY2tlbiIsInVzZXJfc2x1ZyI6ImdvZ29jaGlja2VuIiwiYXZhdGFyIjoiaHR0cHM6Ly93d3cuZ3JhdmF0YXIuY29tL2F2YXRhci85ZWU3Mzk0YTdlMDZmMmZjMGEzYWNhY2QyYWYzYTE0ZS5wbmc_cz0yMDAiLCJyZWZyZXNoZWRfYXQiOjE2MjYxNzI0MjIsImlwIjoiMTQwLjEzNC4yNi43NyIsImlkZW50aXR5IjoiN2Y2NWZmMzE3YzIzNzY0MWY3YWFjZTNiN2RhYzAzZDYiLCJzZXNzaW9uX2lkIjoxMDU1ODA1OCwiX3Nlc3Npb25fZXhwaXJ5IjoxMjA5NjAwfQ.XNgBDPoTs1vcIRSf2yM_e8rRAdLTC-LJjtiLd3m2yWo'},\n",
       " {'domain': '.leetcode.com',\n",
       "  'expiry': 1689244421,\n",
       "  'httpOnly': False,\n",
       "  'name': '_ga',\n",
       "  'path': '/',\n",
       "  'secure': False,\n",
       "  'value': 'GA1.2.2147249404.1626172406'},\n",
       " {'domain': '.leetcode.com',\n",
       "  'expiry': 1626172466,\n",
       "  'httpOnly': False,\n",
       "  'name': '_gat',\n",
       "  'path': '/',\n",
       "  'secure': False,\n",
       "  'value': '1'}]"
      ]
     },
     "execution_count": 6,
     "metadata": {},
     "output_type": "execute_result"
    }
   ],
   "source": [
    "driver.get_cookies()"
   ]
  },
  {
   "cell_type": "code",
   "execution_count": 7,
   "id": "37be3e84",
   "metadata": {},
   "outputs": [],
   "source": [
    "cookies = driver.get_cookies()\n",
    "for cookie in cookies:\n",
    "    session.cookies.set(cookie['name'], cookie['value'])\n",
    "driver.close()"
   ]
  },
  {
   "cell_type": "markdown",
   "id": "c37559ea",
   "metadata": {},
   "source": [
    "# Main 執行區塊"
   ]
  },
  {
   "cell_type": "markdown",
   "id": "67de060f",
   "metadata": {},
   "source": [
    "## 拿題目列表"
   ]
  },
  {
   "cell_type": "code",
   "execution_count": 16,
   "id": "245d6473",
   "metadata": {
    "tags": []
   },
   "outputs": [
    {
     "name": "stdout",
     "output_type": "stream",
     "text": [
      "1932\n",
      "skip: 0, i: 0\n",
      "skip: 50, i: 1\n",
      "skip: 100, i: 2\n",
      "skip: 150, i: 3\n",
      "skip: 200, i: 4\n",
      "skip: 250, i: 5\n",
      "skip: 300, i: 6\n",
      "skip: 350, i: 7\n",
      "skip: 400, i: 8\n",
      "skip: 450, i: 9\n",
      "skip: 500, i: 10\n",
      "skip: 550, i: 11\n",
      "skip: 600, i: 12\n",
      "skip: 650, i: 13\n",
      "skip: 700, i: 14\n",
      "skip: 750, i: 15\n",
      "skip: 800, i: 16\n",
      "skip: 850, i: 17\n",
      "skip: 900, i: 18\n",
      "skip: 950, i: 19\n",
      "skip: 1000, i: 20\n",
      "skip: 1050, i: 21\n",
      "skip: 1100, i: 22\n",
      "skip: 1150, i: 23\n",
      "skip: 1200, i: 24\n",
      "skip: 1250, i: 25\n",
      "skip: 1300, i: 26\n",
      "skip: 1350, i: 27\n",
      "skip: 1400, i: 28\n",
      "skip: 1450, i: 29\n",
      "skip: 1500, i: 30\n",
      "skip: 1550, i: 31\n",
      "skip: 1600, i: 32\n",
      "skip: 1650, i: 33\n",
      "skip: 1700, i: 34\n",
      "skip: 1750, i: 35\n",
      "skip: 1800, i: 36\n",
      "skip: 1850, i: 37\n",
      "skip: 1900, i: 38\n"
     ]
    }
   ],
   "source": [
    "problemset_lst = get_problemset()"
   ]
  },
  {
   "cell_type": "code",
   "execution_count": 17,
   "id": "1cf875bb",
   "metadata": {},
   "outputs": [],
   "source": [
    "QList = []\n",
    "for problem in problemset_lst:\n",
    "    ID = problem['questionId']\n",
    "    slug = problem['titleSlug']\n",
    "    front_id = problem['frontendQuestionId']\n",
    "    has_solution = problem['hasSolution']\n",
    "    QInfo = question_info(ID, slug, front_id, has_solution)\n",
    "    QList.append(QInfo)"
   ]
  },
  {
   "cell_type": "code",
   "execution_count": null,
   "id": "d78c2bfd",
   "metadata": {
    "tags": []
   },
   "outputs": [],
   "source": [
    "len(problemset_lst)"
   ]
  },
  {
   "cell_type": "code",
   "execution_count": null,
   "id": "7083858f",
   "metadata": {
    "tags": []
   },
   "outputs": [],
   "source": [
    "problemset_lst[0]"
   ]
  },
  {
   "cell_type": "code",
   "execution_count": null,
   "id": "de727f8d",
   "metadata": {},
   "outputs": [],
   "source": [
    "print(problemset_lst[0]['questionId'])\n",
    "print(problemset_lst[0]['titleSlug'])"
   ]
  },
  {
   "cell_type": "code",
   "execution_count": null,
   "id": "55ba9a3e",
   "metadata": {},
   "outputs": [],
   "source": [
    "QList[1931].get_info()"
   ]
  },
  {
   "cell_type": "code",
   "execution_count": null,
   "id": "7c3e6fbb",
   "metadata": {},
   "outputs": [],
   "source": [
    "QList[1931].ID"
   ]
  },
  {
   "cell_type": "code",
   "execution_count": null,
   "id": "902a09f8",
   "metadata": {},
   "outputs": [],
   "source": [
    "# 或讀取檔案\n",
    "with open(f\"./{save_file}/problemset_lst.pickle\", \"rb\") as f:\n",
    "    problemset_lst = pickle.load(f)"
   ]
  },
  {
   "cell_type": "markdown",
   "id": "34da247f",
   "metadata": {},
   "source": [
    "## 爬蟲Main區塊"
   ]
  },
  {
   "cell_type": "code",
   "execution_count": 29,
   "id": "1c9dfcb1-2e15-4302-a599-15a0c0dee2aa",
   "metadata": {},
   "outputs": [
    {
     "data": {
      "text/plain": [
       "False"
      ]
     },
     "execution_count": 29,
     "metadata": {},
     "output_type": "execute_result"
    }
   ],
   "source": [
    "os.path.exists(f'{save_file}/{QInfo.ID} {QInfo.slug}/file_list[0]')"
   ]
  },
  {
   "cell_type": "code",
   "execution_count": 26,
   "id": "812a29bb-2cde-470b-824f-3f52cc94dae4",
   "metadata": {},
   "outputs": [
    {
     "data": {
      "text/plain": [
       "('432', '432', 'all-oone-data-structure')"
      ]
     },
     "execution_count": 26,
     "metadata": {},
     "output_type": "execute_result"
    }
   ],
   "source": [
    "QInfo.ID, QInfo.front_id, QInfo.slug"
   ]
  },
  {
   "cell_type": "code",
   "execution_count": 39,
   "id": "2e3c101f-5fe7-41c1-97f0-33d5f5b50010",
   "metadata": {},
   "outputs": [],
   "source": [
    "Path(f\"./{save_file}/{QInfo.ID} {QInfo.slug}\").mkdir(parents=True, exist_ok=True)\n",
    "if not (os.path.exists(f'{save_file}/{QInfo.ID} {QInfo.slug}/{file_list[0]}')):\n",
    "    print(\"OK\")"
   ]
  },
  {
   "cell_type": "code",
   "execution_count": 41,
   "id": "0e924609",
   "metadata": {
    "tags": []
   },
   "outputs": [],
   "source": [
    "file_list = [\n",
    "    \"questionData.json\",\n",
    "    \"questionTags.json\",\n",
    "    \"questionTopicCount.json\",\n",
    "    \"discussQuestionTopicTags.json\",\n",
    "    \"QuestionNote.json\",\n",
    "    \"DiscussTopic.json\",\n",
    "]\n",
    "\n",
    "for QInfo in QList:\n",
    "    logging.info(f\"題目名稱:{QInfo.slug}；前端ID:{QInfo.front_id}；實際ID:{QInfo.ID}；有無解答:{QInfo.has_solution}\")\n",
    "    logging.info(f\"https://leetcode.com/problems/{QInfo.slug}\")\n",
    "\n",
    "    Path(f\"./{save_file}/{QInfo.ID} {QInfo.slug}\").mkdir(parents=True, exist_ok=True)\n",
    "    \n",
    "    if not (os.path.exists(f'{save_file}/{QInfo.ID} {QInfo.slug}/{file_list[0]}')):\n",
    "        QInfo.get_questionData()\n",
    "    if not (os.path.exists(f'{save_file}/{QInfo.ID} {QInfo.slug}/{file_list[1]}')):\n",
    "        QInfo.get_questionTags()\n",
    "    if not (os.path.exists(f'{save_file}/{QInfo.ID} {QInfo.slug}/{file_list[2]}')):\n",
    "        QInfo.get_questionTopicCount()\n",
    "    if not (os.path.exists(f'{save_file}/{QInfo.ID} {QInfo.slug}/{file_list[3]}')):\n",
    "        QInfo.get_discussQuestionTopicTags()\n",
    "        \n",
    "    if (QInfo.has_solution):    \n",
    "        if not (os.path.exists(f'{save_file}/{QInfo.ID} {QInfo.slug}/{file_list[4]}')):\n",
    "            QInfo.get_QuestionNote()\n",
    "        if not (os.path.exists(f'{save_file}/{QInfo.ID} {QInfo.slug}/{file_list[5]}')):\n",
    "            QInfo.get_DiscussTopic()"
   ]
  },
  {
   "cell_type": "code",
   "execution_count": null,
   "id": "9dced6d2-61ad-4347-a046-822309affbbd",
   "metadata": {},
   "outputs": [],
   "source": [
    "QInfo = QList[1800]\n",
    "\n",
    "logging.info(f\"題目名稱:{QInfo.slug}；前端ID:{QInfo.front_id}；實際ID:{QInfo.ID}；有無解答:{QInfo.has_solution}\")\n",
    "logging.info(f\"https://leetcode.com/problems/{QInfo.slug}\")\n",
    "\n",
    "Path(f\"./{save_file}/{QInfo.ID} {QInfo.slug}\").mkdir(parents=True, exist_ok=True)\n",
    "\n",
    "QInfo.get_questionData()\n",
    "QInfo.get_questionTags()\n",
    "QInfo.get_questionTopicCount()\n",
    "QInfo.get_discussQuestionTopicTags()\n",
    "\n",
    "if (QInfo.has_solution):\n",
    "    QInfo.get_QuestionNote()\n",
    "    QInfo.get_DiscussTopic()"
   ]
  },
  {
   "cell_type": "code",
   "execution_count": null,
   "id": "f9b0bec1-dc50-450d-9fa8-9db2d4ac13ab",
   "metadata": {},
   "outputs": [],
   "source": [
    "QInfo = QList[0]"
   ]
  },
  {
   "cell_type": "code",
   "execution_count": null,
   "id": "b6549242-22b3-4d4b-aa69-fb49032ffd60",
   "metadata": {},
   "outputs": [],
   "source": [
    "QInfo.has_solution"
   ]
  },
  {
   "cell_type": "code",
   "execution_count": null,
   "id": "fc7568d0",
   "metadata": {},
   "outputs": [],
   "source": [
    "json.JSONDecodeError"
   ]
  },
  {
   "cell_type": "code",
   "execution_count": null,
   "id": "3e38d957",
   "metadata": {},
   "outputs": [],
   "source": [
    "res = discussQuestionTopicTags(1261, 'find-elements-in-a-contaminated-binary-tree')"
   ]
  },
  {
   "cell_type": "code",
   "execution_count": null,
   "id": "3f186411",
   "metadata": {
    "tags": []
   },
   "outputs": [],
   "source": [
    "res['data']['discussQuestionTopicTags']"
   ]
  },
  {
   "cell_type": "code",
   "execution_count": null,
   "id": "eafc41a2",
   "metadata": {
    "tags": []
   },
   "outputs": [],
   "source": [
    "with open(f\"./{save_file}/Filtered_QList.txt\", \"r\") as f:\n",
    "    QList = [ast.literal_eval(line) for line in f]\n",
    "QList"
   ]
  },
  {
   "cell_type": "markdown",
   "id": "1a8ca686-c8fb-4b7e-a80a-b227fa093e8a",
   "metadata": {},
   "source": [
    "# 爬蟲Function"
   ]
  },
  {
   "cell_type": "markdown",
   "id": "3fe9c242-0135-4429-a154-83ebe4d0780c",
   "metadata": {},
   "source": [
    "## POST方法宣告"
   ]
  },
  {
   "cell_type": "code",
   "execution_count": 8,
   "id": "8d63a918-78e2-44bd-9f22-fcc5791cb36b",
   "metadata": {
    "tags": []
   },
   "outputs": [],
   "source": [
    "def POST(url, json_data, headers, info = \"\"):\n",
    "    try:\n",
    "        logging.info(f\"POST CALL...{info}\")\n",
    "        resp = session.post(url, data = json_data, headers = headers, timeout = 120)\n",
    "        time.sleep(1)\n",
    "        return resp.json()\n",
    "    except requests.exceptions.Timeout as e:\n",
    "        logging.exception(f\"POST讀取超時。階段: {info}。\")\n",
    "        print(\"發生錯誤!請查閱LOG檔\")\n",
    "        return False\n",
    "    except json.decoder.JSONDecodeError as e:\n",
    "        logging.exception(f\"JSON解析時發生錯誤。階段: {info}\\nRESP:{resp}。\")\n",
    "        print(\"發生錯誤!請查閱LOG檔\")\n",
    "        return False\n",
    "    except Exception as e:\n",
    "        logging.exception(f\"發生未知錯誤。階段: {info}。\")\n",
    "        print(\"發生錯誤!請查閱LOG檔\")\n",
    "        return False"
   ]
  },
  {
   "cell_type": "markdown",
   "id": "9dbb5924-9946-4674-a9af-e09e3717652b",
   "metadata": {},
   "source": [
    "## problemsetQuestionList: 拿到題目列表\n",
    "Input: None, Output: 題目列表JSON"
   ]
  },
  {
   "cell_type": "code",
   "execution_count": 9,
   "id": "11a2ccdf-efab-4c66-8c7b-a3aad2739330",
   "metadata": {
    "tags": []
   },
   "outputs": [],
   "source": [
    "# get_problemset 拿到所有題目基本資訊\n",
    "def get_problemset():\n",
    "    url = \"https://leetcode.com/graphql\"\n",
    "    \n",
    "    query_string = \"\"\"\n",
    "query problemsetQuestionList(\n",
    "  $categorySlug: String\n",
    "  $limit: Int\n",
    "  $skip: Int\n",
    "  $filters: QuestionListFilterInput\n",
    ") {\n",
    "  problemsetQuestionList: questionList(\n",
    "    categorySlug: $categorySlug\n",
    "    limit: $limit\n",
    "    skip: $skip\n",
    "    filters: $filters\n",
    "  ) {\n",
    "    total: totalNum\n",
    "    questions: data {\n",
    "      acRate\n",
    "      difficulty\n",
    "      freqBar\n",
    "      questionId\n",
    "      frontendQuestionId: questionFrontendId\n",
    "      isFavor\n",
    "      paidOnly: isPaidOnly\n",
    "      status\n",
    "      title\n",
    "      titleSlug\n",
    "      topicTags {\n",
    "        name\n",
    "        id\n",
    "        slug\n",
    "      }\n",
    "      hasSolution\n",
    "      hasVideoSolution\n",
    "    }\n",
    "  }\n",
    "}\n",
    "    \"\"\"\n",
    "    \n",
    "    skip = 0\n",
    "    limit = 50\n",
    "    variables ={\n",
    "      \"categorySlug\": \"\",\n",
    "      \"skip\": skip,\n",
    "      \"limit\": limit,\n",
    "      \"filters\": {}\n",
    "    }\n",
    "    \n",
    "    params = {'variables': variables,\n",
    "        'query': query_string}\n",
    "\n",
    "    json_data = json.dumps(params).encode('utf8')\n",
    "    headers = {'User-Agent': user_agent, 'Connection': \n",
    "        'keep-alive', 'Content-Type': 'application/json',\n",
    "        'Referer': 'https://leetcode.com/problemset/all/'}\n",
    "    \n",
    "    # 先拿到題目數量\n",
    "    resp = POST(url, json_data, headers, info = \"先拿到總題目數量\")\n",
    "    if not resp: return\n",
    "    total_num = resp['data']['problemsetQuestionList']['total']\n",
    "    logging.info(f\"Get number of problem sets: {total_num}\")\n",
    "    print(total_num)\n",
    "\n",
    "    \n",
    "    \"\"\" ❄❄❄❄❄❄❄❄❄❄❄❄❄❄❄❄❄❄❄❄ 根據所有題目數量，開始抓取所有題目基本資料 ❄❄❄❄❄❄❄❄❄❄❄❄❄❄❄❄❄❄❄❄ \"\"\"\n",
    "    problemset_lst = []\n",
    "    for i in range(int(total_num/limit)+1):\n",
    "        skip = i*limit\n",
    "        print(f\"skip: {skip}, i: {i}\")\n",
    "        \n",
    "        \n",
    "        # Variable settings\n",
    "        variables ={\n",
    "          \"categorySlug\": \"\",\n",
    "          \"skip\": skip,\n",
    "          \"limit\": limit,\n",
    "          \"filters\": {}\n",
    "        }\n",
    "        params = {'variables': variables,\n",
    "            'query': query_string}\n",
    "\n",
    "        json_data = json.dumps(params).encode('utf8')\n",
    "        headers = {'User-Agent': user_agent, 'Connection': \n",
    "            'keep-alive', 'Content-Type': 'application/json',\n",
    "            'Referer': 'https://leetcode.com/problemset/all/'}\n",
    "        \n",
    "        # POST拿回資料        \n",
    "        json_data = POST(url, json_data, headers, info = \"拿到所有題目基本資訊 problemsetQuestionList\")\n",
    "        if not json_data: return\n",
    "        for data in json_data['data']['problemsetQuestionList']['questions']:\n",
    "            problemset_lst.append(data)\n",
    "    \"\"\" ❄❄❄❄❄❄❄❄❄❄❄❄❄❄❄❄❄❄❄❄ 根據所有題目數量，開始抓取所有題目基本資料 ❄❄❄❄❄❄❄❄❄❄❄❄❄❄❄❄❄❄❄❄ \"\"\"        \n",
    "    \n",
    "    \n",
    "    # 使用pickle存 problemset_lst\n",
    "    with open(f\"./{save_file}/problemset_lst.pickle\", 'wb') as f:\n",
    "        pickle.dump(problemset_lst, f)\n",
    "    return problemset_lst"
   ]
  },
  {
   "cell_type": "markdown",
   "id": "61d25c25-d082-4e0c-94e4-4ee44338ca6d",
   "metadata": {},
   "source": [
    "## questionData: 題目基本資訊\n",
    "Input: ID, slug, Output: questionData_OP JSON"
   ]
  },
  {
   "cell_type": "code",
   "execution_count": 10,
   "id": "0888d3d7-fc11-41f4-a43b-08c15f8318eb",
   "metadata": {
    "tags": []
   },
   "outputs": [],
   "source": [
    "# questionData: 題目基本資訊\n",
    "def questionData(slug):\n",
    "    url = \"https://leetcode.com/graphql\"\n",
    "    \n",
    "    operationName = \"questionData\"\n",
    "    query_string = \"\"\"\n",
    "query questionData($titleSlug: String!) {\n",
    "  question(titleSlug: $titleSlug) {\n",
    "    questionId\n",
    "    questionFrontendId\n",
    "    boundTopicId\n",
    "    title\n",
    "    titleSlug\n",
    "    content\n",
    "    translatedTitle\n",
    "    translatedContent\n",
    "    isPaidOnly\n",
    "    difficulty\n",
    "    likes\n",
    "    dislikes\n",
    "    isLiked\n",
    "    similarQuestions\n",
    "    exampleTestcases\n",
    "    contributors {\n",
    "      username\n",
    "      profileUrl\n",
    "      avatarUrl\n",
    "      __typename\n",
    "    }\n",
    "    topicTags {\n",
    "      name\n",
    "      slug\n",
    "      translatedName\n",
    "      __typename\n",
    "    }\n",
    "    companyTagStats\n",
    "    codeSnippets {\n",
    "      lang\n",
    "      langSlug\n",
    "      code\n",
    "      __typename\n",
    "    }\n",
    "    stats\n",
    "    hints\n",
    "    solution {\n",
    "      id\n",
    "      canSeeDetail\n",
    "      paidOnly\n",
    "      hasVideoSolution\n",
    "      paidOnlyVideo\n",
    "      __typename\n",
    "    }\n",
    "    status\n",
    "    sampleTestCase\n",
    "    metaData\n",
    "    judgerAvailable\n",
    "    judgeType\n",
    "    mysqlSchemas\n",
    "    enableRunCode\n",
    "    enableTestMode\n",
    "    enableDebugger\n",
    "    envInfo\n",
    "    libraryUrl\n",
    "    adminUrl\n",
    "    __typename\n",
    "  }\n",
    "}\n",
    "    \"\"\"\n",
    "    \n",
    "    variables = {\"titleSlug\": slug}\n",
    "    \n",
    "    \"\"\"❄❄❄❄❄❄❄❄❄❄❄❄❄❄❄❄❄❄❄❄ Every operator is same ❄❄❄❄❄❄❄❄❄❄❄❄❄❄❄❄❄❄❄❄\"\"\"\n",
    "    params = {'operationName': operationName,\n",
    "        'variables': variables,\n",
    "        'query': query_string}\n",
    "\n",
    "    json_data = json.dumps(params).encode('utf8')\n",
    "    headers = {'User-Agent': user_agent, 'Connection': \n",
    "        'keep-alive', 'Content-Type': 'application/json',\n",
    "        'Referer': 'https://leetcode.com/problems/' + slug}\n",
    "    \"\"\"❄❄❄❄❄❄❄❄❄❄❄❄❄❄❄❄❄❄❄❄ Every operator is same ❄❄❄❄❄❄❄❄❄❄❄❄❄❄❄❄❄❄❄❄\"\"\"\n",
    "    \n",
    "    # 傳回Res資料，需要再.json解析\n",
    "    resp = POST(url, json_data, headers, info = \"抓取題目基本資訊 questionData\")\n",
    "    return resp"
   ]
  },
  {
   "cell_type": "markdown",
   "id": "1368add8-567a-4626-a35c-c66688e53037",
   "metadata": {},
   "source": [
    "## questionTags: 列出一系列的題目類型與面試公司Tag，每個題目都一致"
   ]
  },
  {
   "cell_type": "code",
   "execution_count": 11,
   "id": "2b6943f9-5d4f-4786-8abf-885038293e45",
   "metadata": {},
   "outputs": [],
   "source": [
    "def questionTags(slug):\n",
    "    url = \"https://leetcode.com/graphql\"\n",
    "    \n",
    "    operationName = \"questionTags\"\n",
    "    query_string = \"\"\"\n",
    "query questionTags($skipCompanyTags: Boolean = false) {\n",
    "  questionTopicTags {\n",
    "    edges {\n",
    "      node {\n",
    "        name\n",
    "        translatedName\n",
    "        slug\n",
    "        __typename\n",
    "      }\n",
    "      __typename\n",
    "    }\n",
    "    __typename\n",
    "  }\n",
    "  questionCompanyTags @skip(if: $skipCompanyTags) {\n",
    "    edges {\n",
    "      node {\n",
    "        name\n",
    "        translatedName\n",
    "        slug\n",
    "        __typename\n",
    "      }\n",
    "      __typename\n",
    "    }\n",
    "    __typename\n",
    "  }\n",
    "}\n",
    "    \"\"\"\n",
    "    \n",
    "    # 付費會員為false\n",
    "    variables = {\"skipCompanyTags\": False}\n",
    "    \n",
    "    params = {'operationName': operationName,\n",
    "        'variables': variables,\n",
    "        'query': query_string}\n",
    "\n",
    "    json_data = json.dumps(params).encode('utf8')\n",
    "    headers = {'User-Agent': user_agent, 'Connection': \n",
    "        'keep-alive', 'Content-Type': 'application/json',\n",
    "        'Referer': 'https://leetcode.com/problems/' + slug}\n",
    "\n",
    "    resp = POST(url, json_data, headers, info = \"抓取題目Tag questionTags\")\n",
    "    return resp"
   ]
  },
  {
   "cell_type": "markdown",
   "id": "4b47fdea-1e30-4601-a8b6-d20bd2c23b5a",
   "metadata": {},
   "source": [
    "## questionTopicCount: 總題目討論串數量"
   ]
  },
  {
   "cell_type": "code",
   "execution_count": 12,
   "id": "8549f7f0-8bf2-4fca-addd-bc90e7017346",
   "metadata": {},
   "outputs": [],
   "source": [
    "def questionTopicCount(ID, slug):\n",
    "    url = \"https://leetcode.com/graphql\"\n",
    "    \n",
    "    operationName = \"questionTopicCount\"\n",
    "    query_string = \"\"\"\n",
    "query questionTopicCount($questionId: String!) {\n",
    "  questionTopicsList(questionId: $questionId) {\n",
    "    totalNum\n",
    "    __typename\n",
    "  }\n",
    "}\n",
    "    \"\"\"\n",
    "    \n",
    "    variables = {\"questionId\": ID}\n",
    "    \n",
    "    params = {'operationName': operationName,\n",
    "        'variables': variables,\n",
    "        'query': query_string}\n",
    "\n",
    "    json_data = json.dumps(params).encode('utf8')\n",
    "    headers = {'User-Agent': user_agent, 'Connection': \n",
    "        'keep-alive', 'Content-Type': 'application/json',\n",
    "        'Referer': 'https://leetcode.com/problems/' + slug}\n",
    "    \n",
    "    resp = POST(url, json_data, headers, info = \"抓取總討論串數量 questionTopicCount\")\n",
    "    return resp"
   ]
  },
  {
   "cell_type": "markdown",
   "id": "536127d2-2c04-492a-9d2b-04edaba1af7e",
   "metadata": {},
   "source": [
    "## discussQuestionTopicTags: 拿到討論區Tags \n",
    "Input: ID,slug, Output: Tags JSON (傳回Res資料，需要再.json解析)"
   ]
  },
  {
   "cell_type": "code",
   "execution_count": 13,
   "id": "bc068bdb-fa97-4af5-aed5-fedf056874e0",
   "metadata": {},
   "outputs": [],
   "source": [
    "def discussQuestionTopicTags(ID, slug):\n",
    "    url = \"https://leetcode.com/graphql\"\n",
    "    operationName = \"discussQuestionTopicTags\"\n",
    "    \n",
    "    # Same query when fetching different questions\n",
    "    query = \"\"\"\n",
    "    query discussQuestionTopicTags(\n",
    "      $tagType: String\n",
    "      $questionId: String!\n",
    "      $selectedTags: [String!]\n",
    "    ) {\n",
    "      discussQuestionTopicTags(\n",
    "        tagType: $tagType\n",
    "        questionId: $questionId\n",
    "        selectedTags: $selectedTags\n",
    "      ) {\n",
    "        ...TopicTag\n",
    "        __typename\n",
    "      }\n",
    "    }\n",
    "\n",
    "    fragment TopicTag on DiscussTopicTagNode {\n",
    "      id\n",
    "      name\n",
    "      slug\n",
    "      numTopics\n",
    "      __typename\n",
    "    }\n",
    "    \"\"\"\n",
    "    \n",
    "    # Different from questions to questions\n",
    "    variables = {\n",
    "      \"selectedTags\": [],\n",
    "      \"questionId\": ID\n",
    "    }\n",
    "    \n",
    "    \n",
    "    \"\"\"❄❄❄❄❄❄❄❄❄❄❄❄❄❄❄❄❄❄❄❄ Every operator is same ❄❄❄❄❄❄❄❄❄❄❄❄❄❄❄❄❄❄❄❄\"\"\"\n",
    "    \n",
    "    params = {'operationName': operationName,\n",
    "        'variables': variables,\n",
    "        'query': query}\n",
    "\n",
    "    json_data = json.dumps(params).encode('utf8')\n",
    "    headers = {'User-Agent': user_agent, 'Connection': \n",
    "        'keep-alive', 'Content-Type': 'application/json',\n",
    "        'Referer': 'https://leetcode.com/problems/' + slug}\n",
    "    \n",
    "    \"\"\"❄❄❄❄❄❄❄❄❄❄❄❄❄❄❄❄❄❄❄❄ Every operator is same ❄❄❄❄❄❄❄❄❄❄❄❄❄❄❄❄❄❄❄❄\"\"\"\n",
    "    \n",
    "    # 傳回Res資料，需要再.json解析\n",
    "    resp = POST(url, json_data, headers, info = \"題目討論區Tag蒐集 discussQuestionTopicTags\")\n",
    "    return resp"
   ]
  },
  {
   "cell_type": "markdown",
   "id": "d1b57c49-0ba2-4990-9db3-b64b1807018e",
   "metadata": {},
   "source": [
    "## 以下Function題目有要Solution才叫的出來"
   ]
  },
  {
   "cell_type": "markdown",
   "id": "4fe89fcc-5b56-4273-82c2-001fe952f35e",
   "metadata": {},
   "source": [
    "### QuestionNote: solution相關、內涵 topicId 這題標題的ID，和題目ID不同"
   ]
  },
  {
   "cell_type": "code",
   "execution_count": 14,
   "id": "07e09b2d-1eeb-4c14-ab73-226332a4737f",
   "metadata": {},
   "outputs": [],
   "source": [
    "def QuestionNote(slug):\n",
    "    url = \"https://leetcode.com/graphql\"\n",
    "    \n",
    "    operationName = \"QuestionNote\"\n",
    "    query_string = \"\"\"\n",
    "query QuestionNote($titleSlug: String!) {\n",
    "  question(titleSlug: $titleSlug) {\n",
    "    questionId\n",
    "    article\n",
    "    solution {\n",
    "      id\n",
    "      content\n",
    "      contentTypeId\n",
    "      canSeeDetail\n",
    "      paidOnly\n",
    "      hasVideoSolution\n",
    "      paidOnlyVideo\n",
    "      rating {\n",
    "        id\n",
    "        count\n",
    "        average\n",
    "        userRating {\n",
    "          score\n",
    "          __typename\n",
    "        }\n",
    "        __typename\n",
    "      }\n",
    "      __typename\n",
    "    }\n",
    "    __typename\n",
    "  }\n",
    "}\n",
    "    \"\"\"\n",
    "    \n",
    "    variables = {\"titleSlug\": slug}\n",
    "    \n",
    "    params = {'operationName': operationName,\n",
    "        'variables': variables,\n",
    "        'query': query_string}\n",
    "\n",
    "    json_data = json.dumps(params).encode('utf8')\n",
    "    headers = {'User-Agent': user_agent, 'Connection': \n",
    "        'keep-alive', 'Content-Type': 'application/json',\n",
    "        'Referer': 'https://leetcode.com/problems/' + slug}\n",
    "\n",
    "    resp = POST(url, json_data, headers, info = \"題目solution相關資訊 QuestionNote\")\n",
    "    return resp"
   ]
  },
  {
   "cell_type": "markdown",
   "id": "9400fffa-b62a-4388-9436-ed41d80d5a76",
   "metadata": {},
   "source": [
    "### DiscussTopic 內含 topLevelCommentCount 討論串數量，需要topicId"
   ]
  },
  {
   "cell_type": "code",
   "execution_count": 15,
   "id": "2c352cd3-0f54-4f24-9328-74eb81b860e1",
   "metadata": {},
   "outputs": [],
   "source": [
    "def DiscussTopic(slug, topicId):\n",
    "    url = \"https://leetcode.com/graphql\"\n",
    "    \n",
    "    operationName = \"DiscussTopic\"\n",
    "    query_string = \"\"\"\n",
    "query DiscussTopic($topicId: Int!) {\n",
    "  topic(id: $topicId) {\n",
    "    id\n",
    "    viewCount\n",
    "    topLevelCommentCount\n",
    "    subscribed\n",
    "    title\n",
    "    pinned\n",
    "    tags\n",
    "    hideFromTrending\n",
    "    post {\n",
    "      ...DiscussPost\n",
    "      __typename\n",
    "    }\n",
    "    __typename\n",
    "  }\n",
    "}\n",
    "\n",
    "fragment DiscussPost on PostNode {\n",
    "  id\n",
    "  voteCount\n",
    "  voteStatus\n",
    "  content\n",
    "  updationDate\n",
    "  creationDate\n",
    "  status\n",
    "  isHidden\n",
    "  coinRewards {\n",
    "    ...CoinReward\n",
    "    __typename\n",
    "  }\n",
    "  author {\n",
    "    isDiscussAdmin\n",
    "    isDiscussStaff\n",
    "    username\n",
    "    nameColor\n",
    "    activeBadge {\n",
    "      displayName\n",
    "      icon\n",
    "      __typename\n",
    "    }\n",
    "    profile {\n",
    "      userAvatar\n",
    "      reputation\n",
    "      __typename\n",
    "    }\n",
    "    isActive\n",
    "    __typename\n",
    "  }\n",
    "  authorIsModerator\n",
    "  isOwnPost\n",
    "  __typename\n",
    "}\n",
    "\n",
    "fragment CoinReward on ScoreNode {\n",
    "  id\n",
    "  score\n",
    "  description\n",
    "  date\n",
    "  __typename\n",
    "}\n",
    "    \"\"\"\n",
    "    \n",
    "    variables = {\"topicId\": topicId}\n",
    "    \n",
    "    params = {'operationName': operationName,\n",
    "        'variables': variables,\n",
    "        'query': query_string}\n",
    "\n",
    "    json_data = json.dumps(params).encode('utf8')\n",
    "    headers = {'User-Agent': user_agent, 'Connection': \n",
    "        'keep-alive', 'Content-Type': 'application/json',\n",
    "        'Referer': 'https://leetcode.com/problems/' + slug}\n",
    "\n",
    "    resp = POST(url, json_data, headers, info = \"Solution下的討論串 DiscussTopic\")\n",
    "    return resp"
   ]
  }
 ],
 "metadata": {
  "kernelspec": {
   "display_name": "Python 3",
   "language": "python",
   "name": "python3"
  },
  "language_info": {
   "codemirror_mode": {
    "name": "ipython",
    "version": 3
   },
   "file_extension": ".py",
   "mimetype": "text/x-python",
   "name": "python",
   "nbconvert_exporter": "python",
   "pygments_lexer": "ipython3",
   "version": "3.9.5"
  },
  "toc-autonumbering": true,
  "toc-showcode": false,
  "toc-showmarkdowntxt": false,
  "toc-showtags": false
 },
 "nbformat": 4,
 "nbformat_minor": 5
}
